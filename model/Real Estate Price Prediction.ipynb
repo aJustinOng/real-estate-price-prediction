{
 "cells": [
  {
   "cell_type": "markdown",
   "id": "4ade737d-f378-4d07-a230-bef346a7ce32",
   "metadata": {},
   "source": [
    "# Data Science Regression Project: Predicting Home Prices in USA"
   ]
  },
  {
   "cell_type": "code",
   "execution_count": 2,
   "id": "c73ed31c-0a45-436b-8f3e-1c77e86d0e08",
   "metadata": {},
   "outputs": [],
   "source": [
    "import pandas as pd\n",
    "import numpy as np\n",
    "from matplotlib import pyplot as plt\n",
    "%matplotlib inline\n",
    "import matplotlib\n",
    "matplotlib.rcParams['figure.figsize'] = (20, 10)"
   ]
  },
  {
   "cell_type": "markdown",
   "id": "8c13bbbd-6bf7-4df8-beab-01ce75f0ead4",
   "metadata": {},
   "source": [
    "## realtor-data.csv (2,226,382 entries)\n",
    "- brokered by (categorically encoded agency/broker)\n",
    "- status (Housing status - a. ready for sale or b. ready to build)\n",
    "- price (Housing price, it is either the current listing price or recently sold - price if the house is sold recently)\n",
    "- bed (# of beds)\n",
    "- bath (# of bathrooms)\n",
    "- acre_lot (Property / Land size in acres)\n",
    "- street (categorically encoded street address)\n",
    "- city (city name)\n",
    "- state (state name)\n",
    "- zip_code (postal code of the area)\n",
    "- house_size (house area/size/living space in square feet)\n",
    "- prev_sold_date (Previously sold date)\n",
    "\n",
    "https://www.kaggle.com/datasets/ahmedshahriarsakib/usa-real-estate-dataset"
   ]
  },
  {
   "cell_type": "code",
   "execution_count": 4,
   "id": "18ca74d3-5e4f-4f48-8a71-c37d1ebda2e3",
   "metadata": {},
   "outputs": [
    {
     "data": {
      "text/html": [
       "<div>\n",
       "<style scoped>\n",
       "    .dataframe tbody tr th:only-of-type {\n",
       "        vertical-align: middle;\n",
       "    }\n",
       "\n",
       "    .dataframe tbody tr th {\n",
       "        vertical-align: top;\n",
       "    }\n",
       "\n",
       "    .dataframe thead th {\n",
       "        text-align: right;\n",
       "    }\n",
       "</style>\n",
       "<table border=\"1\" class=\"dataframe\">\n",
       "  <thead>\n",
       "    <tr style=\"text-align: right;\">\n",
       "      <th></th>\n",
       "      <th>brokered_by</th>\n",
       "      <th>status</th>\n",
       "      <th>price</th>\n",
       "      <th>bed</th>\n",
       "      <th>bath</th>\n",
       "      <th>acre_lot</th>\n",
       "      <th>street</th>\n",
       "      <th>city</th>\n",
       "      <th>state</th>\n",
       "      <th>zip_code</th>\n",
       "      <th>house_size</th>\n",
       "      <th>prev_sold_date</th>\n",
       "    </tr>\n",
       "  </thead>\n",
       "  <tbody>\n",
       "    <tr>\n",
       "      <th>0</th>\n",
       "      <td>103378.0</td>\n",
       "      <td>for_sale</td>\n",
       "      <td>105000.0</td>\n",
       "      <td>3.0</td>\n",
       "      <td>2.0</td>\n",
       "      <td>0.12</td>\n",
       "      <td>1962661.0</td>\n",
       "      <td>Adjuntas</td>\n",
       "      <td>Puerto Rico</td>\n",
       "      <td>601.0</td>\n",
       "      <td>920.0</td>\n",
       "      <td>NaN</td>\n",
       "    </tr>\n",
       "    <tr>\n",
       "      <th>1</th>\n",
       "      <td>52707.0</td>\n",
       "      <td>for_sale</td>\n",
       "      <td>80000.0</td>\n",
       "      <td>4.0</td>\n",
       "      <td>2.0</td>\n",
       "      <td>0.08</td>\n",
       "      <td>1902874.0</td>\n",
       "      <td>Adjuntas</td>\n",
       "      <td>Puerto Rico</td>\n",
       "      <td>601.0</td>\n",
       "      <td>1527.0</td>\n",
       "      <td>NaN</td>\n",
       "    </tr>\n",
       "    <tr>\n",
       "      <th>2</th>\n",
       "      <td>103379.0</td>\n",
       "      <td>for_sale</td>\n",
       "      <td>67000.0</td>\n",
       "      <td>2.0</td>\n",
       "      <td>1.0</td>\n",
       "      <td>0.15</td>\n",
       "      <td>1404990.0</td>\n",
       "      <td>Juana Diaz</td>\n",
       "      <td>Puerto Rico</td>\n",
       "      <td>795.0</td>\n",
       "      <td>748.0</td>\n",
       "      <td>NaN</td>\n",
       "    </tr>\n",
       "    <tr>\n",
       "      <th>3</th>\n",
       "      <td>31239.0</td>\n",
       "      <td>for_sale</td>\n",
       "      <td>145000.0</td>\n",
       "      <td>4.0</td>\n",
       "      <td>2.0</td>\n",
       "      <td>0.10</td>\n",
       "      <td>1947675.0</td>\n",
       "      <td>Ponce</td>\n",
       "      <td>Puerto Rico</td>\n",
       "      <td>731.0</td>\n",
       "      <td>1800.0</td>\n",
       "      <td>NaN</td>\n",
       "    </tr>\n",
       "    <tr>\n",
       "      <th>4</th>\n",
       "      <td>34632.0</td>\n",
       "      <td>for_sale</td>\n",
       "      <td>65000.0</td>\n",
       "      <td>6.0</td>\n",
       "      <td>2.0</td>\n",
       "      <td>0.05</td>\n",
       "      <td>331151.0</td>\n",
       "      <td>Mayaguez</td>\n",
       "      <td>Puerto Rico</td>\n",
       "      <td>680.0</td>\n",
       "      <td>NaN</td>\n",
       "      <td>NaN</td>\n",
       "    </tr>\n",
       "  </tbody>\n",
       "</table>\n",
       "</div>"
      ],
      "text/plain": [
       "   brokered_by    status     price  bed  bath  acre_lot     street  \\\n",
       "0     103378.0  for_sale  105000.0  3.0   2.0      0.12  1962661.0   \n",
       "1      52707.0  for_sale   80000.0  4.0   2.0      0.08  1902874.0   \n",
       "2     103379.0  for_sale   67000.0  2.0   1.0      0.15  1404990.0   \n",
       "3      31239.0  for_sale  145000.0  4.0   2.0      0.10  1947675.0   \n",
       "4      34632.0  for_sale   65000.0  6.0   2.0      0.05   331151.0   \n",
       "\n",
       "         city        state  zip_code  house_size prev_sold_date  \n",
       "0    Adjuntas  Puerto Rico     601.0       920.0            NaN  \n",
       "1    Adjuntas  Puerto Rico     601.0      1527.0            NaN  \n",
       "2  Juana Diaz  Puerto Rico     795.0       748.0            NaN  \n",
       "3       Ponce  Puerto Rico     731.0      1800.0            NaN  \n",
       "4    Mayaguez  Puerto Rico     680.0         NaN            NaN  "
      ]
     },
     "execution_count": 4,
     "metadata": {},
     "output_type": "execute_result"
    }
   ],
   "source": [
    "df1 = pd.read_csv('realtor-data.csv')\n",
    "df1.head()"
   ]
  },
  {
   "cell_type": "code",
   "execution_count": 5,
   "id": "4df98b69-80a2-4b7e-a5d8-08b9ce38af0b",
   "metadata": {},
   "outputs": [
    {
     "data": {
      "text/plain": [
       "(2226382, 12)"
      ]
     },
     "execution_count": 5,
     "metadata": {},
     "output_type": "execute_result"
    }
   ],
   "source": [
    "df1.shape"
   ]
  },
  {
   "cell_type": "markdown",
   "id": "c0d2d834-f5c1-4ed9-93c6-dc3a2ec8aaae",
   "metadata": {},
   "source": [
    "## Drop unnecessary columns"
   ]
  },
  {
   "cell_type": "code",
   "execution_count": 7,
   "id": "6c7e7605-c161-4ff9-b432-a447892acfb2",
   "metadata": {},
   "outputs": [
    {
     "data": {
      "text/html": [
       "<div>\n",
       "<style scoped>\n",
       "    .dataframe tbody tr th:only-of-type {\n",
       "        vertical-align: middle;\n",
       "    }\n",
       "\n",
       "    .dataframe tbody tr th {\n",
       "        vertical-align: top;\n",
       "    }\n",
       "\n",
       "    .dataframe thead th {\n",
       "        text-align: right;\n",
       "    }\n",
       "</style>\n",
       "<table border=\"1\" class=\"dataframe\">\n",
       "  <thead>\n",
       "    <tr style=\"text-align: right;\">\n",
       "      <th></th>\n",
       "      <th>price</th>\n",
       "      <th>bed</th>\n",
       "      <th>bath</th>\n",
       "      <th>state</th>\n",
       "      <th>house_size</th>\n",
       "    </tr>\n",
       "  </thead>\n",
       "  <tbody>\n",
       "    <tr>\n",
       "      <th>0</th>\n",
       "      <td>105000.0</td>\n",
       "      <td>3.0</td>\n",
       "      <td>2.0</td>\n",
       "      <td>Puerto Rico</td>\n",
       "      <td>920.0</td>\n",
       "    </tr>\n",
       "    <tr>\n",
       "      <th>1</th>\n",
       "      <td>80000.0</td>\n",
       "      <td>4.0</td>\n",
       "      <td>2.0</td>\n",
       "      <td>Puerto Rico</td>\n",
       "      <td>1527.0</td>\n",
       "    </tr>\n",
       "    <tr>\n",
       "      <th>2</th>\n",
       "      <td>67000.0</td>\n",
       "      <td>2.0</td>\n",
       "      <td>1.0</td>\n",
       "      <td>Puerto Rico</td>\n",
       "      <td>748.0</td>\n",
       "    </tr>\n",
       "    <tr>\n",
       "      <th>3</th>\n",
       "      <td>145000.0</td>\n",
       "      <td>4.0</td>\n",
       "      <td>2.0</td>\n",
       "      <td>Puerto Rico</td>\n",
       "      <td>1800.0</td>\n",
       "    </tr>\n",
       "    <tr>\n",
       "      <th>4</th>\n",
       "      <td>65000.0</td>\n",
       "      <td>6.0</td>\n",
       "      <td>2.0</td>\n",
       "      <td>Puerto Rico</td>\n",
       "      <td>NaN</td>\n",
       "    </tr>\n",
       "  </tbody>\n",
       "</table>\n",
       "</div>"
      ],
      "text/plain": [
       "      price  bed  bath        state  house_size\n",
       "0  105000.0  3.0   2.0  Puerto Rico       920.0\n",
       "1   80000.0  4.0   2.0  Puerto Rico      1527.0\n",
       "2   67000.0  2.0   1.0  Puerto Rico       748.0\n",
       "3  145000.0  4.0   2.0  Puerto Rico      1800.0\n",
       "4   65000.0  6.0   2.0  Puerto Rico         NaN"
      ]
     },
     "execution_count": 7,
     "metadata": {},
     "output_type": "execute_result"
    }
   ],
   "source": [
    "# Limit the location to state for dimensionality reduction\n",
    "df2 = df1.drop(['brokered_by', 'status', 'prev_sold_date', 'acre_lot', 'street', 'city', 'zip_code'], axis = 'columns')\n",
    "df2.head()"
   ]
  },
  {
   "cell_type": "markdown",
   "id": "75d12b90-4b7d-45ca-9475-818efbb8d947",
   "metadata": {},
   "source": [
    "## Data cleaning: NA values"
   ]
  },
  {
   "cell_type": "code",
   "execution_count": 9,
   "id": "449a28a2-cfeb-4600-85e9-25da8a45c3b6",
   "metadata": {},
   "outputs": [
    {
     "data": {
      "text/plain": [
       "price           1541\n",
       "bed           481317\n",
       "bath          511771\n",
       "state              8\n",
       "house_size    568484\n",
       "dtype: int64"
      ]
     },
     "execution_count": 9,
     "metadata": {},
     "output_type": "execute_result"
    }
   ],
   "source": [
    "df2.isnull().sum()"
   ]
  },
  {
   "cell_type": "code",
   "execution_count": 10,
   "id": "0bebd54a-f5b8-4b93-acdb-1e0bfa76c2c9",
   "metadata": {},
   "outputs": [],
   "source": [
    "# Not the best practice but for simplicity's sake\n",
    "df3 = df2.dropna()\n",
    "df3.isnull().sum()\n",
    "df3 = df3[df3['price'] != 0]"
   ]
  },
  {
   "cell_type": "code",
   "execution_count": 11,
   "id": "3a50b9d7-84eb-446b-94e9-3f8a918c8f8a",
   "metadata": {},
   "outputs": [
    {
     "data": {
      "text/plain": [
       "(1605502, 5)"
      ]
     },
     "execution_count": 11,
     "metadata": {},
     "output_type": "execute_result"
    }
   ],
   "source": [
    "df3.shape"
   ]
  },
  {
   "cell_type": "markdown",
   "id": "8b623fb5-4828-4e80-b39a-f165619341fe",
   "metadata": {},
   "source": [
    "## Outlier Removal: Prices"
   ]
  },
  {
   "cell_type": "code",
   "execution_count": 13,
   "id": "946f9976-0d85-4696-87c6-4530f5bd57f1",
   "metadata": {},
   "outputs": [],
   "source": [
    "# Function to remove price outliers per state by one std from mean\n",
    "def remove_price_outliers(df):\n",
    "    df_out = pd.DataFrame()\n",
    "    for key, subdf in df.groupby('state'):\n",
    "        m = np.mean(subdf.price)\n",
    "        st = np.std(subdf.price)\n",
    "        reduced_df = subdf[(subdf.price>(m-st)) & (subdf.price<=(m+st))]\n",
    "        df_out = pd.concat([df_out,reduced_df],ignore_index=True)\n",
    "    return df_out"
   ]
  },
  {
   "cell_type": "code",
   "execution_count": 14,
   "id": "556e9d67-0118-4d4a-90d0-5ece2bf2becc",
   "metadata": {},
   "outputs": [
    {
     "data": {
      "text/plain": [
       "(1522753, 5)"
      ]
     },
     "execution_count": 14,
     "metadata": {},
     "output_type": "execute_result"
    }
   ],
   "source": [
    "df4 = remove_price_outliers(df3)\n",
    "df4.shape"
   ]
  },
  {
   "cell_type": "markdown",
   "id": "eebaff98-6334-48ff-a664-0fd0507d49d8",
   "metadata": {},
   "source": [
    "## Feature Engineering"
   ]
  },
  {
   "cell_type": "markdown",
   "id": "34216a37-3882-4cbf-981f-1000ffc371c3",
   "metadata": {},
   "source": [
    "Add new feature called price_per_sqft"
   ]
  },
  {
   "cell_type": "code",
   "execution_count": 17,
   "id": "03393ac4-edba-4fa1-adab-019350f275ee",
   "metadata": {},
   "outputs": [
    {
     "data": {
      "text/html": [
       "<div>\n",
       "<style scoped>\n",
       "    .dataframe tbody tr th:only-of-type {\n",
       "        vertical-align: middle;\n",
       "    }\n",
       "\n",
       "    .dataframe tbody tr th {\n",
       "        vertical-align: top;\n",
       "    }\n",
       "\n",
       "    .dataframe thead th {\n",
       "        text-align: right;\n",
       "    }\n",
       "</style>\n",
       "<table border=\"1\" class=\"dataframe\">\n",
       "  <thead>\n",
       "    <tr style=\"text-align: right;\">\n",
       "      <th></th>\n",
       "      <th>price</th>\n",
       "      <th>bed</th>\n",
       "      <th>bath</th>\n",
       "      <th>state</th>\n",
       "      <th>house_size</th>\n",
       "      <th>price_per_sqft</th>\n",
       "    </tr>\n",
       "  </thead>\n",
       "  <tbody>\n",
       "    <tr>\n",
       "      <th>0</th>\n",
       "      <td>549000.0</td>\n",
       "      <td>4.0</td>\n",
       "      <td>4.0</td>\n",
       "      <td>Alabama</td>\n",
       "      <td>2919.0</td>\n",
       "      <td>188.078109</td>\n",
       "    </tr>\n",
       "    <tr>\n",
       "      <th>1</th>\n",
       "      <td>175000.0</td>\n",
       "      <td>3.0</td>\n",
       "      <td>2.0</td>\n",
       "      <td>Alabama</td>\n",
       "      <td>1234.0</td>\n",
       "      <td>141.815235</td>\n",
       "    </tr>\n",
       "    <tr>\n",
       "      <th>2</th>\n",
       "      <td>118500.0</td>\n",
       "      <td>3.0</td>\n",
       "      <td>1.0</td>\n",
       "      <td>Alabama</td>\n",
       "      <td>1276.0</td>\n",
       "      <td>92.868339</td>\n",
       "    </tr>\n",
       "    <tr>\n",
       "      <th>3</th>\n",
       "      <td>489900.0</td>\n",
       "      <td>3.0</td>\n",
       "      <td>3.0</td>\n",
       "      <td>Alabama</td>\n",
       "      <td>1840.0</td>\n",
       "      <td>266.250000</td>\n",
       "    </tr>\n",
       "    <tr>\n",
       "      <th>4</th>\n",
       "      <td>399900.0</td>\n",
       "      <td>4.0</td>\n",
       "      <td>3.0</td>\n",
       "      <td>Alabama</td>\n",
       "      <td>2709.0</td>\n",
       "      <td>147.619048</td>\n",
       "    </tr>\n",
       "  </tbody>\n",
       "</table>\n",
       "</div>"
      ],
      "text/plain": [
       "      price  bed  bath    state  house_size  price_per_sqft\n",
       "0  549000.0  4.0   4.0  Alabama      2919.0      188.078109\n",
       "1  175000.0  3.0   2.0  Alabama      1234.0      141.815235\n",
       "2  118500.0  3.0   1.0  Alabama      1276.0       92.868339\n",
       "3  489900.0  3.0   3.0  Alabama      1840.0      266.250000\n",
       "4  399900.0  4.0   3.0  Alabama      2709.0      147.619048"
      ]
     },
     "execution_count": 17,
     "metadata": {},
     "output_type": "execute_result"
    }
   ],
   "source": [
    "df4['price_per_sqft'] = df4['price']/df4['house_size']\n",
    "df4.head()"
   ]
  },
  {
   "cell_type": "markdown",
   "id": "9d792b2f-b505-47c2-a947-a09ec1a68837",
   "metadata": {},
   "source": [
    "## Dimensionality Reduction"
   ]
  },
  {
   "cell_type": "code",
   "execution_count": 19,
   "id": "6cf1af92-9dfe-4172-baab-6e99645a2d69",
   "metadata": {},
   "outputs": [
    {
     "name": "stdout",
     "output_type": "stream",
     "text": [
      "54\n"
     ]
    },
    {
     "data": {
      "text/plain": [
       "state\n",
       "Alabama                  19019\n",
       "Alaska                     789\n",
       "Arizona                  53674\n",
       "Arkansas                 11528\n",
       "California              189825\n",
       "Colorado                 23251\n",
       "Connecticut              11496\n",
       "Delaware                  6259\n",
       "District of Columbia      5630\n",
       "Florida                 176372\n",
       "Georgia                  51853\n",
       "Guam                       251\n",
       "Hawaii                    4730\n",
       "Idaho                    11694\n",
       "Illinois                 60140\n",
       "Indiana                  12157\n",
       "Iowa                     15650\n",
       "Kansas                   10402\n",
       "Kentucky                 16368\n",
       "Louisiana                15638\n",
       "Maine                     2264\n",
       "Maryland                 37182\n",
       "Massachusetts            33427\n",
       "Michigan                 24260\n",
       "Minnesota                32139\n",
       "Mississippi               8243\n",
       "Missouri                 30702\n",
       "Montana                   5824\n",
       "Nebraska                  4372\n",
       "Nevada                   10624\n",
       "New Hampshire             2217\n",
       "New Jersey               22482\n",
       "New Mexico               11917\n",
       "New York                 66292\n",
       "North Carolina           39960\n",
       "North Dakota              2241\n",
       "Ohio                     41992\n",
       "Oklahoma                 26793\n",
       "Oregon                   25321\n",
       "Pennsylvania             54452\n",
       "Puerto Rico               2310\n",
       "Rhode Island              7305\n",
       "South Carolina           21009\n",
       "South Dakota              2173\n",
       "Tennessee                18850\n",
       "Texas                   150633\n",
       "Utah                     10214\n",
       "Vermont                   1433\n",
       "Virgin Islands             183\n",
       "Virginia                 51477\n",
       "Washington               48593\n",
       "West Virginia             7589\n",
       "Wisconsin                19817\n",
       "Wyoming                   1737\n",
       "Name: state, dtype: int64"
      ]
     },
     "execution_count": 19,
     "metadata": {},
     "output_type": "execute_result"
    }
   ],
   "source": [
    "df4.state = df4.state.apply(lambda x: x.strip())\n",
    "\n",
    "# Check number of states\n",
    "print(df4['state'].nunique())\n",
    "\n",
    "df4.groupby('state')['state'].agg('count')"
   ]
  },
  {
   "cell_type": "code",
   "execution_count": 20,
   "id": "8bd55687-3fcc-48b7-918b-96c2b0b3feac",
   "metadata": {},
   "outputs": [],
   "source": [
    "# There's only 50 U.S. states, so we want to group the rest into an \"Other\" category\n",
    "# Use a list of the 50 U.S. states to filter out the rest\n",
    "us_states = [\n",
    "    'Alabama', 'Alaska', 'Arizona', 'Arkansas', 'California', 'Colorado', 'Connecticut', 'Delaware', \n",
    "    'Florida', 'Georgia', 'Hawaii', 'Idaho', 'Illinois', 'Indiana', 'Iowa', 'Kansas', 'Kentucky', \n",
    "    'Louisiana', 'Maine', 'Maryland', 'Massachusetts', 'Michigan', 'Minnesota', 'Mississippi', \n",
    "    'Missouri', 'Montana', 'Nebraska', 'Nevada', 'New Hampshire', 'New Jersey', 'New Mexico', \n",
    "    'New York', 'North Carolina', 'North Dakota', 'Ohio', 'Oklahoma', 'Oregon', 'Pennsylvania', \n",
    "    'Rhode Island', 'South Carolina', 'South Dakota', 'Tennessee', 'Texas', 'Utah', 'Vermont', \n",
    "    'Virginia', 'Washington', 'West Virginia', 'Wisconsin', 'Wyoming'\n",
    "]"
   ]
  },
  {
   "cell_type": "code",
   "execution_count": 21,
   "id": "ecb92a94-1c10-4540-b0fe-a41f779b5210",
   "metadata": {},
   "outputs": [
    {
     "data": {
      "text/plain": [
       "51"
      ]
     },
     "execution_count": 21,
     "metadata": {},
     "output_type": "execute_result"
    }
   ],
   "source": [
    "df4.state = df4.state.apply(lambda x: 'Other' if x not in us_states else x)\n",
    "len(df4.state.unique())"
   ]
  },
  {
   "cell_type": "markdown",
   "id": "8a29fc1a-caa1-448a-a6f8-81e3b8c584a9",
   "metadata": {},
   "source": [
    "## Outlier Removal: Bedroom per Square Feet"
   ]
  },
  {
   "cell_type": "code",
   "execution_count": 23,
   "id": "a76c700e-767a-4683-b447-385cb8df60e1",
   "metadata": {},
   "outputs": [
    {
     "data": {
      "text/plain": [
       "array([  4.,   3.,   2.,   5.,   1.,   6.,  11.,   7.,   8.,   9.,  12.,\n",
       "        10.,  14.,  18.,  16.,  13.,  27.,  32.,  22.,  15.,  24.,  55.,\n",
       "        37.,  20.,  30.,  19.,  17.,  26.,  23.,  25.,  63.,  52.,  35.,\n",
       "        44.,  28.,  62.,  21.,  34.,  50.,  38.,  49.,  39.,  48.,  40.,\n",
       "        36.,  33.,  31.,  43.,  66.,  42.,  99.,  41., 190.,  29.,  75.,\n",
       "       444., 148.])"
      ]
     },
     "execution_count": 23,
     "metadata": {},
     "output_type": "execute_result"
    }
   ],
   "source": [
    "df4['bed'].unique()"
   ]
  },
  {
   "cell_type": "code",
   "execution_count": 24,
   "id": "bc13f6a2-9351-4de1-a1a5-aeff046f0544",
   "metadata": {
    "scrolled": true
   },
   "outputs": [
    {
     "data": {
      "text/html": [
       "<div>\n",
       "<style scoped>\n",
       "    .dataframe tbody tr th:only-of-type {\n",
       "        vertical-align: middle;\n",
       "    }\n",
       "\n",
       "    .dataframe tbody tr th {\n",
       "        vertical-align: top;\n",
       "    }\n",
       "\n",
       "    .dataframe thead th {\n",
       "        text-align: right;\n",
       "    }\n",
       "</style>\n",
       "<table border=\"1\" class=\"dataframe\">\n",
       "  <thead>\n",
       "    <tr style=\"text-align: right;\">\n",
       "      <th></th>\n",
       "      <th>price</th>\n",
       "      <th>bed</th>\n",
       "      <th>bath</th>\n",
       "      <th>state</th>\n",
       "      <th>house_size</th>\n",
       "      <th>price_per_sqft</th>\n",
       "    </tr>\n",
       "  </thead>\n",
       "  <tbody>\n",
       "    <tr>\n",
       "      <th>685334</th>\n",
       "      <td>189000.0</td>\n",
       "      <td>190.0</td>\n",
       "      <td>163.0</td>\n",
       "      <td>Louisiana</td>\n",
       "      <td>110350.0</td>\n",
       "      <td>1.712732</td>\n",
       "    </tr>\n",
       "    <tr>\n",
       "      <th>1108467</th>\n",
       "      <td>440000.0</td>\n",
       "      <td>444.0</td>\n",
       "      <td>222.0</td>\n",
       "      <td>Oregon</td>\n",
       "      <td>1700.0</td>\n",
       "      <td>258.823529</td>\n",
       "    </tr>\n",
       "    <tr>\n",
       "      <th>1110544</th>\n",
       "      <td>549000.0</td>\n",
       "      <td>148.0</td>\n",
       "      <td>74.0</td>\n",
       "      <td>Oregon</td>\n",
       "      <td>3372.0</td>\n",
       "      <td>162.811388</td>\n",
       "    </tr>\n",
       "    <tr>\n",
       "      <th>1122984</th>\n",
       "      <td>430000.0</td>\n",
       "      <td>444.0</td>\n",
       "      <td>222.0</td>\n",
       "      <td>Oregon</td>\n",
       "      <td>1700.0</td>\n",
       "      <td>252.941176</td>\n",
       "    </tr>\n",
       "  </tbody>\n",
       "</table>\n",
       "</div>"
      ],
      "text/plain": [
       "            price    bed   bath      state  house_size  price_per_sqft\n",
       "685334   189000.0  190.0  163.0  Louisiana    110350.0        1.712732\n",
       "1108467  440000.0  444.0  222.0     Oregon      1700.0      258.823529\n",
       "1110544  549000.0  148.0   74.0     Oregon      3372.0      162.811388\n",
       "1122984  430000.0  444.0  222.0     Oregon      1700.0      252.941176"
      ]
     },
     "execution_count": 24,
     "metadata": {},
     "output_type": "execute_result"
    }
   ],
   "source": [
    "# Some rows contain a ridiculous number of bedrooms\n",
    "# but they do not match the house size, likely errors\n",
    "df4[df4.bed>100]"
   ]
  },
  {
   "cell_type": "code",
   "execution_count": 25,
   "id": "9f9a229b-7a29-45c7-942a-80cd97f0ccec",
   "metadata": {},
   "outputs": [
    {
     "data": {
      "text/plain": [
       "bed\n",
       "1.0       56033\n",
       "2.0      282568\n",
       "3.0      685393\n",
       "4.0      375945\n",
       "5.0       90071\n",
       "6.0       20401\n",
       "7.0        4400\n",
       "8.0        3754\n",
       "9.0        1481\n",
       "10.0        806\n",
       "11.0        341\n",
       "12.0        605\n",
       "13.0        141\n",
       "14.0        143\n",
       "15.0        108\n",
       "16.0        135\n",
       "17.0         45\n",
       "18.0         79\n",
       "19.0         21\n",
       "20.0         54\n",
       "21.0         21\n",
       "22.0         27\n",
       "23.0         17\n",
       "24.0         33\n",
       "25.0         12\n",
       "26.0         10\n",
       "27.0          6\n",
       "28.0         15\n",
       "29.0          2\n",
       "30.0          6\n",
       "31.0          5\n",
       "32.0         19\n",
       "33.0          5\n",
       "34.0          3\n",
       "35.0          1\n",
       "36.0          6\n",
       "37.0          4\n",
       "38.0          3\n",
       "39.0          1\n",
       "40.0          5\n",
       "41.0          2\n",
       "42.0          2\n",
       "43.0          1\n",
       "44.0          4\n",
       "48.0          3\n",
       "49.0          1\n",
       "50.0          1\n",
       "52.0          1\n",
       "55.0          2\n",
       "62.0          2\n",
       "63.0          1\n",
       "66.0          2\n",
       "75.0          1\n",
       "99.0          1\n",
       "148.0         1\n",
       "190.0         1\n",
       "444.0         2\n",
       "Name: bed, dtype: int64"
      ]
     },
     "execution_count": 25,
     "metadata": {},
     "output_type": "execute_result"
    }
   ],
   "source": [
    "df4.groupby('bed')['bed'].agg('count')"
   ]
  },
  {
   "cell_type": "code",
   "execution_count": 26,
   "id": "ad3386ab-6781-46a6-8aba-03741846daf8",
   "metadata": {},
   "outputs": [
    {
     "data": {
      "text/html": [
       "<div>\n",
       "<style scoped>\n",
       "    .dataframe tbody tr th:only-of-type {\n",
       "        vertical-align: middle;\n",
       "    }\n",
       "\n",
       "    .dataframe tbody tr th {\n",
       "        vertical-align: top;\n",
       "    }\n",
       "\n",
       "    .dataframe thead th {\n",
       "        text-align: right;\n",
       "    }\n",
       "</style>\n",
       "<table border=\"1\" class=\"dataframe\">\n",
       "  <thead>\n",
       "    <tr style=\"text-align: right;\">\n",
       "      <th></th>\n",
       "      <th>price</th>\n",
       "      <th>bed</th>\n",
       "      <th>bath</th>\n",
       "      <th>state</th>\n",
       "      <th>house_size</th>\n",
       "      <th>price_per_sqft</th>\n",
       "    </tr>\n",
       "  </thead>\n",
       "  <tbody>\n",
       "    <tr>\n",
       "      <th>5</th>\n",
       "      <td>169000.0</td>\n",
       "      <td>2.0</td>\n",
       "      <td>1.0</td>\n",
       "      <td>Alabama</td>\n",
       "      <td>330.0</td>\n",
       "      <td>512.121212</td>\n",
       "    </tr>\n",
       "    <tr>\n",
       "      <th>21</th>\n",
       "      <td>159000.0</td>\n",
       "      <td>3.0</td>\n",
       "      <td>1.0</td>\n",
       "      <td>Alabama</td>\n",
       "      <td>768.0</td>\n",
       "      <td>207.031250</td>\n",
       "    </tr>\n",
       "    <tr>\n",
       "      <th>54</th>\n",
       "      <td>72000.0</td>\n",
       "      <td>3.0</td>\n",
       "      <td>1.0</td>\n",
       "      <td>Alabama</td>\n",
       "      <td>756.0</td>\n",
       "      <td>95.238095</td>\n",
       "    </tr>\n",
       "    <tr>\n",
       "      <th>65</th>\n",
       "      <td>99999.0</td>\n",
       "      <td>5.0</td>\n",
       "      <td>2.0</td>\n",
       "      <td>Alabama</td>\n",
       "      <td>1345.0</td>\n",
       "      <td>74.348699</td>\n",
       "    </tr>\n",
       "    <tr>\n",
       "      <th>167</th>\n",
       "      <td>375000.0</td>\n",
       "      <td>2.0</td>\n",
       "      <td>1.0</td>\n",
       "      <td>Alabama</td>\n",
       "      <td>580.0</td>\n",
       "      <td>646.551724</td>\n",
       "    </tr>\n",
       "  </tbody>\n",
       "</table>\n",
       "</div>"
      ],
      "text/plain": [
       "        price  bed  bath    state  house_size  price_per_sqft\n",
       "5    169000.0  2.0   1.0  Alabama       330.0      512.121212\n",
       "21   159000.0  3.0   1.0  Alabama       768.0      207.031250\n",
       "54    72000.0  3.0   1.0  Alabama       756.0       95.238095\n",
       "65    99999.0  5.0   2.0  Alabama      1345.0       74.348699\n",
       "167  375000.0  2.0   1.0  Alabama       580.0      646.551724"
      ]
     },
     "execution_count": 26,
     "metadata": {},
     "output_type": "execute_result"
    }
   ],
   "source": [
    "# 300 sq ft is a realistic average for 1 bedroom\n",
    "# The below are considered outliers\n",
    "df4[df4.house_size/df4.bed<300].head()"
   ]
  },
  {
   "cell_type": "code",
   "execution_count": 27,
   "id": "b096ca05-4a2c-4dc6-9de8-8774fb88e89b",
   "metadata": {},
   "outputs": [
    {
     "data": {
      "text/plain": [
       "(1522753, 6)"
      ]
     },
     "execution_count": 27,
     "metadata": {},
     "output_type": "execute_result"
    }
   ],
   "source": [
    "df4.shape"
   ]
  },
  {
   "cell_type": "code",
   "execution_count": 28,
   "id": "99fdf21c-caf0-4ab8-8103-4325a637c148",
   "metadata": {},
   "outputs": [
    {
     "data": {
      "text/plain": [
       "(1504104, 6)"
      ]
     },
     "execution_count": 28,
     "metadata": {},
     "output_type": "execute_result"
    }
   ],
   "source": [
    "df5 = df4[~(df4.house_size/df4.bed<300)]\n",
    "df5.shape"
   ]
  },
  {
   "cell_type": "code",
   "execution_count": 29,
   "id": "4812ec21-8ba8-4b9d-8b10-83f0b4824c09",
   "metadata": {},
   "outputs": [
    {
     "data": {
      "text/plain": [
       "count    1.504104e+06\n",
       "mean     2.572744e+02\n",
       "std      2.200115e+02\n",
       "min      1.092896e-04\n",
       "25%      1.402806e+02\n",
       "50%      1.963351e+02\n",
       "75%      2.929688e+02\n",
       "max      8.714286e+03\n",
       "Name: price_per_sqft, dtype: float64"
      ]
     },
     "execution_count": 29,
     "metadata": {},
     "output_type": "execute_result"
    }
   ],
   "source": [
    "df5.price_per_sqft.describe()"
   ]
  },
  {
   "cell_type": "code",
   "execution_count": 30,
   "id": "7ad14f77-4637-4c42-81cf-88ecf280a924",
   "metadata": {},
   "outputs": [],
   "source": [
    "# Function to remove price per sqft outliers per state by one std from mean\n",
    "def remove_pps_outliers(df):\n",
    "    df_out = pd.DataFrame()\n",
    "    for key, subdf in df.groupby('state'):\n",
    "        m = np.mean(subdf.price_per_sqft)\n",
    "        st = np.std(subdf.price_per_sqft)\n",
    "        reduced_df = subdf[(subdf.price_per_sqft>(m-st)) & (subdf.price_per_sqft<=(m+st))]\n",
    "        df_out = pd.concat([df_out,reduced_df],ignore_index=True)\n",
    "    return df_out"
   ]
  },
  {
   "cell_type": "code",
   "execution_count": 31,
   "id": "dd297e81-5ccf-4b6c-94ed-6980ad0ded41",
   "metadata": {},
   "outputs": [
    {
     "data": {
      "text/plain": [
       "(1188567, 6)"
      ]
     },
     "execution_count": 31,
     "metadata": {},
     "output_type": "execute_result"
    }
   ],
   "source": [
    "df6 = remove_pps_outliers(df5)\n",
    "df6.shape"
   ]
  },
  {
   "cell_type": "code",
   "execution_count": 32,
   "id": "d23d7837-f44b-40dc-ab87-0dca695a6f97",
   "metadata": {},
   "outputs": [
    {
     "data": {
      "text/plain": [
       "count    1.188567e+06\n",
       "mean     2.312896e+02\n",
       "std      1.325798e+02\n",
       "min      2.955956e-04\n",
       "25%      1.464456e+02\n",
       "50%      1.932836e+02\n",
       "75%      2.699240e+02\n",
       "max      1.142241e+03\n",
       "Name: price_per_sqft, dtype: float64"
      ]
     },
     "execution_count": 32,
     "metadata": {},
     "output_type": "execute_result"
    }
   ],
   "source": [
    "df6.price_per_sqft.describe()"
   ]
  },
  {
   "cell_type": "markdown",
   "id": "cc3fa39e-18bd-487f-b437-6a21c3a9256f",
   "metadata": {},
   "source": [
    "## Outlier Removal: Price Per Bedroom Outliers"
   ]
  },
  {
   "cell_type": "code",
   "execution_count": 34,
   "id": "8b1b51ae-5281-4e28-8589-c50597f05a57",
   "metadata": {},
   "outputs": [],
   "source": [
    "def plot_scatter_chart(df, state):\n",
    "    twoBed = df[(df.state == state) & (df.bed == 2)]\n",
    "    threeBed = df[(df.state == state) & (df.bed == 3)]\n",
    "    matplotlib.rcParams['figure.figsize'] = (15, 10)\n",
    "    plt.scatter(twoBed.house_size, twoBed.price, color = 'blue', label = '2 bedrooms', s = 50)\n",
    "    plt.scatter(threeBed.house_size, threeBed.price, marker = '+', color = 'green', label = '3 bedrooms', s = 50)\n",
    "    plt.xlabel(\"Total Square Feet Area\")\n",
    "    plt.ylabel(\"Price Per Square Feet\")\n",
    "    plt.title(state)\n",
    "    plt.legend()\n",
    "    plt.show()"
   ]
  },
  {
   "cell_type": "code",
   "execution_count": 35,
   "id": "4a8e8deb-084f-4598-84ea-ae78f70817fd",
   "metadata": {},
   "outputs": [
    {
     "data": {
      "image/png": "[encoded data removed]",
      "text/plain": [
       "<Figure size 1500x1000 with 1 Axes>"
      ]
     },
     "metadata": {},
     "output_type": "display_data"
    }
   ],
   "source": [
    "plot_scatter_chart(df6, 'New York')"
   ]
  },
  {
   "cell_type": "code",
   "execution_count": 36,
   "id": "5ee285eb-a475-443b-bb73-901fa25f8c19",
   "metadata": {},
   "outputs": [
    {
     "data": {
      "image/png": "[encoded data removed]",
      "text/plain": [
       "<Figure size 1500x1000 with 1 Axes>"
      ]
     },
     "metadata": {},
     "output_type": "display_data"
    }
   ],
   "source": [
    "plot_scatter_chart(df6, 'Arkansas')"
   ]
  },
  {
   "cell_type": "code",
   "execution_count": 37,
   "id": "afc5b796-587d-4eb5-a402-202146715534",
   "metadata": {},
   "outputs": [
    {
     "data": {
      "text/plain": [
       "(522390, 6)"
      ]
     },
     "execution_count": 37,
     "metadata": {},
     "output_type": "execute_result"
    }
   ],
   "source": [
    "# Remove bedroom outliers (same state, but 2 bed price is higher than 3 bed, etc.)\n",
    "def remove_bed_outliers_by_number(df):\n",
    "    exclude_indices = np.array([])\n",
    "    for state, state_df in df.groupby('state'):\n",
    "        bed_stats = {}\n",
    "        for bed, bed_df in state_df.groupby('bed'):\n",
    "            bed_stats[bed] = {\n",
    "                'mean': np.mean(bed_df.price_per_sqft),\n",
    "                'std': np.std(bed_df.price_per_sqft),\n",
    "                'count': bed_df.shape[0]\n",
    "            }\n",
    "        for bed, bed_df in state_df.groupby('bed'):\n",
    "            stats = bed_stats.get(bed-1)\n",
    "            if stats and stats['count']>5:\n",
    "                exclude_indices = np.append(exclude_indices, bed_df[bed_df.price_per_sqft<(stats['mean'])].index.values)\n",
    "    return df.drop(exclude_indices,axis='index')\n",
    "\n",
    "df7 = remove_bed_outliers_by_number(df6)\n",
    "df7.shape"
   ]
  },
  {
   "cell_type": "code",
   "execution_count": 38,
   "id": "aae0acee-d55e-438b-a849-efcae8388bcf",
   "metadata": {},
   "outputs": [
    {
     "data": {
      "image/png": "[encoded data removed]",
      "text/plain": [
       "<Figure size 1500x1000 with 1 Axes>"
      ]
     },
     "metadata": {},
     "output_type": "display_data"
    }
   ],
   "source": [
    "plot_scatter_chart(df7, 'New York')"
   ]
  },
  {
   "cell_type": "code",
   "execution_count": 39,
   "id": "f6515e8f-6c74-415f-8934-6796cc07732b",
   "metadata": {},
   "outputs": [
    {
     "data": {
      "image/png": "[encoded data removed]",
      "text/plain": [
       "<Figure size 1500x1000 with 1 Axes>"
      ]
     },
     "metadata": {},
     "output_type": "display_data"
    }
   ],
   "source": [
    "plot_scatter_chart(df7, 'Arkansas')"
   ]
  },
  {
   "cell_type": "code",
   "execution_count": 40,
   "id": "ca4476b1-64e5-4cd3-9368-e0a23cb98901",
   "metadata": {},
   "outputs": [
    {
     "data": {
      "image/png": "[encoded data removed]",
      "text/plain": [
       "<Figure size 2000x1000 with 1 Axes>"
      ]
     },
     "metadata": {},
     "output_type": "display_data"
    }
   ],
   "source": [
    "matplotlib.rcParams[\"figure.figsize\"] = (20,10)\n",
    "plt.hist(df7.price_per_sqft,rwidth=0.8)\n",
    "plt.xlabel(\"Price Per Square Feet\")\n",
    "plt.ylabel(\"Count\")\n",
    "plt.show()"
   ]
  },
  {
   "cell_type": "markdown",
   "id": "635ed66a-8444-4a26-92e5-d4dbe20f8718",
   "metadata": {},
   "source": [
    "## Outlier Removal: More Bathrooms than Bedrooms?"
   ]
  },
  {
   "cell_type": "code",
   "execution_count": 42,
   "id": "908281f5-0f97-4b37-94b3-4ddf1b317df8",
   "metadata": {},
   "outputs": [
    {
     "data": {
      "text/plain": [
       "array([  4.,   2.,   3.,   1.,   5.,   6.,  17.,   7.,  14.,  10.,   8.,\n",
       "        16.,   9.,  22.,  13.,  11.,  18.,  15.,  19.,  12.,  20.,  30.,\n",
       "        32.,  35.,  28.,  38.,  26.,  36.,  24.,  25.,  27.,  42.,  45.,\n",
       "        21., 113.])"
      ]
     },
     "execution_count": 42,
     "metadata": {},
     "output_type": "execute_result"
    }
   ],
   "source": [
    "df7.bath.unique()"
   ]
  },
  {
   "cell_type": "code",
   "execution_count": 43,
   "id": "07fcb580-5f83-4ca1-9855-a49033b8c409",
   "metadata": {},
   "outputs": [
    {
     "data": {
      "text/html": [
       "<div>\n",
       "<style scoped>\n",
       "    .dataframe tbody tr th:only-of-type {\n",
       "        vertical-align: middle;\n",
       "    }\n",
       "\n",
       "    .dataframe tbody tr th {\n",
       "        vertical-align: top;\n",
       "    }\n",
       "\n",
       "    .dataframe thead th {\n",
       "        text-align: right;\n",
       "    }\n",
       "</style>\n",
       "<table border=\"1\" class=\"dataframe\">\n",
       "  <thead>\n",
       "    <tr style=\"text-align: right;\">\n",
       "      <th></th>\n",
       "      <th>price</th>\n",
       "      <th>bed</th>\n",
       "      <th>bath</th>\n",
       "      <th>state</th>\n",
       "      <th>house_size</th>\n",
       "      <th>price_per_sqft</th>\n",
       "    </tr>\n",
       "  </thead>\n",
       "  <tbody>\n",
       "    <tr>\n",
       "      <th>15898</th>\n",
       "      <td>685000.0</td>\n",
       "      <td>7.0</td>\n",
       "      <td>17.0</td>\n",
       "      <td>Arizona</td>\n",
       "      <td>2970.0</td>\n",
       "      <td>230.639731</td>\n",
       "    </tr>\n",
       "    <tr>\n",
       "      <th>61479</th>\n",
       "      <td>659950.0</td>\n",
       "      <td>9.0</td>\n",
       "      <td>14.0</td>\n",
       "      <td>Arkansas</td>\n",
       "      <td>6602.0</td>\n",
       "      <td>99.962133</td>\n",
       "    </tr>\n",
       "    <tr>\n",
       "      <th>63478</th>\n",
       "      <td>609900.0</td>\n",
       "      <td>4.0</td>\n",
       "      <td>8.0</td>\n",
       "      <td>Arkansas</td>\n",
       "      <td>3500.0</td>\n",
       "      <td>174.257143</td>\n",
       "    </tr>\n",
       "    <tr>\n",
       "      <th>64559</th>\n",
       "      <td>5800000.0</td>\n",
       "      <td>13.0</td>\n",
       "      <td>16.0</td>\n",
       "      <td>California</td>\n",
       "      <td>10712.0</td>\n",
       "      <td>541.448842</td>\n",
       "    </tr>\n",
       "    <tr>\n",
       "      <th>65182</th>\n",
       "      <td>2700000.0</td>\n",
       "      <td>11.0</td>\n",
       "      <td>15.0</td>\n",
       "      <td>California</td>\n",
       "      <td>6252.0</td>\n",
       "      <td>431.861804</td>\n",
       "    </tr>\n",
       "    <tr>\n",
       "      <th>...</th>\n",
       "      <td>...</td>\n",
       "      <td>...</td>\n",
       "      <td>...</td>\n",
       "      <td>...</td>\n",
       "      <td>...</td>\n",
       "      <td>...</td>\n",
       "    </tr>\n",
       "    <tr>\n",
       "      <th>1110073</th>\n",
       "      <td>819000.0</td>\n",
       "      <td>4.0</td>\n",
       "      <td>8.0</td>\n",
       "      <td>Virginia</td>\n",
       "      <td>3851.0</td>\n",
       "      <td>212.672033</td>\n",
       "    </tr>\n",
       "    <tr>\n",
       "      <th>1113041</th>\n",
       "      <td>590000.0</td>\n",
       "      <td>3.0</td>\n",
       "      <td>6.0</td>\n",
       "      <td>Virginia</td>\n",
       "      <td>2536.0</td>\n",
       "      <td>232.649842</td>\n",
       "    </tr>\n",
       "    <tr>\n",
       "      <th>1142294</th>\n",
       "      <td>799000.0</td>\n",
       "      <td>1.0</td>\n",
       "      <td>4.0</td>\n",
       "      <td>Washington</td>\n",
       "      <td>3278.0</td>\n",
       "      <td>243.746187</td>\n",
       "    </tr>\n",
       "    <tr>\n",
       "      <th>1156086</th>\n",
       "      <td>1085000.0</td>\n",
       "      <td>1.0</td>\n",
       "      <td>4.0</td>\n",
       "      <td>Washington</td>\n",
       "      <td>3420.0</td>\n",
       "      <td>317.251462</td>\n",
       "    </tr>\n",
       "    <tr>\n",
       "      <th>1169510</th>\n",
       "      <td>189900.0</td>\n",
       "      <td>1.0</td>\n",
       "      <td>6.0</td>\n",
       "      <td>West Virginia</td>\n",
       "      <td>2080.0</td>\n",
       "      <td>91.298077</td>\n",
       "    </tr>\n",
       "  </tbody>\n",
       "</table>\n",
       "<p>349 rows × 6 columns</p>\n",
       "</div>"
      ],
      "text/plain": [
       "             price   bed  bath          state  house_size  price_per_sqft\n",
       "15898     685000.0   7.0  17.0        Arizona      2970.0      230.639731\n",
       "61479     659950.0   9.0  14.0       Arkansas      6602.0       99.962133\n",
       "63478     609900.0   4.0   8.0       Arkansas      3500.0      174.257143\n",
       "64559    5800000.0  13.0  16.0     California     10712.0      541.448842\n",
       "65182    2700000.0  11.0  15.0     California      6252.0      431.861804\n",
       "...            ...   ...   ...            ...         ...             ...\n",
       "1110073   819000.0   4.0   8.0       Virginia      3851.0      212.672033\n",
       "1113041   590000.0   3.0   6.0       Virginia      2536.0      232.649842\n",
       "1142294   799000.0   1.0   4.0     Washington      3278.0      243.746187\n",
       "1156086  1085000.0   1.0   4.0     Washington      3420.0      317.251462\n",
       "1169510   189900.0   1.0   6.0  West Virginia      2080.0       91.298077\n",
       "\n",
       "[349 rows x 6 columns]"
      ]
     },
     "execution_count": 43,
     "metadata": {},
     "output_type": "execute_result"
    }
   ],
   "source": [
    "# Unlikely for a house to have 2 more baths than bedrooms\n",
    "df7[df7.bath>df7.bed+2]"
   ]
  },
  {
   "cell_type": "code",
   "execution_count": 44,
   "id": "7838adb2-b175-491b-a62c-182faa2567ca",
   "metadata": {},
   "outputs": [
    {
     "data": {
      "text/plain": [
       "(519903, 6)"
      ]
     },
     "execution_count": 44,
     "metadata": {},
     "output_type": "execute_result"
    }
   ],
   "source": [
    "df8 = df7[df7.bath<df7.bed+2]\n",
    "df8.shape"
   ]
  },
  {
   "cell_type": "code",
   "execution_count": 45,
   "id": "327ffb5f-17e5-4a2f-b28c-781e1c5b5325",
   "metadata": {},
   "outputs": [
    {
     "data": {
      "text/plain": [
       "count    519903.000000\n",
       "mean        287.172140\n",
       "std         155.979469\n",
       "min           0.621032\n",
       "25%         182.691669\n",
       "50%         232.557807\n",
       "75%         330.567723\n",
       "max        1142.241379\n",
       "Name: price_per_sqft, dtype: float64"
      ]
     },
     "execution_count": 45,
     "metadata": {},
     "output_type": "execute_result"
    }
   ],
   "source": [
    "df8.price_per_sqft.describe()"
   ]
  },
  {
   "cell_type": "code",
   "execution_count": 46,
   "id": "dd50fe4c-a1e7-47bb-9193-06bdb068b5b8",
   "metadata": {},
   "outputs": [
    {
     "data": {
      "text/html": [
       "<div>\n",
       "<style scoped>\n",
       "    .dataframe tbody tr th:only-of-type {\n",
       "        vertical-align: middle;\n",
       "    }\n",
       "\n",
       "    .dataframe tbody tr th {\n",
       "        vertical-align: top;\n",
       "    }\n",
       "\n",
       "    .dataframe thead th {\n",
       "        text-align: right;\n",
       "    }\n",
       "</style>\n",
       "<table border=\"1\" class=\"dataframe\">\n",
       "  <thead>\n",
       "    <tr style=\"text-align: right;\">\n",
       "      <th></th>\n",
       "      <th>price</th>\n",
       "      <th>bed</th>\n",
       "      <th>bath</th>\n",
       "      <th>state</th>\n",
       "      <th>house_size</th>\n",
       "      <th>price_per_sqft</th>\n",
       "    </tr>\n",
       "  </thead>\n",
       "  <tbody>\n",
       "    <tr>\n",
       "      <th>0</th>\n",
       "      <td>549000.0</td>\n",
       "      <td>4.0</td>\n",
       "      <td>4.0</td>\n",
       "      <td>Alabama</td>\n",
       "      <td>2919.0</td>\n",
       "      <td>188.078109</td>\n",
       "    </tr>\n",
       "    <tr>\n",
       "      <th>1</th>\n",
       "      <td>175000.0</td>\n",
       "      <td>3.0</td>\n",
       "      <td>2.0</td>\n",
       "      <td>Alabama</td>\n",
       "      <td>1234.0</td>\n",
       "      <td>141.815235</td>\n",
       "    </tr>\n",
       "    <tr>\n",
       "      <th>3</th>\n",
       "      <td>399900.0</td>\n",
       "      <td>4.0</td>\n",
       "      <td>3.0</td>\n",
       "      <td>Alabama</td>\n",
       "      <td>2709.0</td>\n",
       "      <td>147.619048</td>\n",
       "    </tr>\n",
       "    <tr>\n",
       "      <th>4</th>\n",
       "      <td>589000.0</td>\n",
       "      <td>3.0</td>\n",
       "      <td>3.0</td>\n",
       "      <td>Alabama</td>\n",
       "      <td>4108.0</td>\n",
       "      <td>143.378773</td>\n",
       "    </tr>\n",
       "    <tr>\n",
       "      <th>5</th>\n",
       "      <td>279000.0</td>\n",
       "      <td>3.0</td>\n",
       "      <td>2.0</td>\n",
       "      <td>Alabama</td>\n",
       "      <td>1917.0</td>\n",
       "      <td>145.539906</td>\n",
       "    </tr>\n",
       "  </tbody>\n",
       "</table>\n",
       "</div>"
      ],
      "text/plain": [
       "      price  bed  bath    state  house_size  price_per_sqft\n",
       "0  549000.0  4.0   4.0  Alabama      2919.0      188.078109\n",
       "1  175000.0  3.0   2.0  Alabama      1234.0      141.815235\n",
       "3  399900.0  4.0   3.0  Alabama      2709.0      147.619048\n",
       "4  589000.0  3.0   3.0  Alabama      4108.0      143.378773\n",
       "5  279000.0  3.0   2.0  Alabama      1917.0      145.539906"
      ]
     },
     "execution_count": 46,
     "metadata": {},
     "output_type": "execute_result"
    }
   ],
   "source": [
    "df8.head()"
   ]
  },
  {
   "cell_type": "code",
   "execution_count": 47,
   "id": "b936326a-cb07-4982-b1e5-a2cd51380246",
   "metadata": {},
   "outputs": [
    {
     "data": {
      "text/html": [
       "<div>\n",
       "<style scoped>\n",
       "    .dataframe tbody tr th:only-of-type {\n",
       "        vertical-align: middle;\n",
       "    }\n",
       "\n",
       "    .dataframe tbody tr th {\n",
       "        vertical-align: top;\n",
       "    }\n",
       "\n",
       "    .dataframe thead th {\n",
       "        text-align: right;\n",
       "    }\n",
       "</style>\n",
       "<table border=\"1\" class=\"dataframe\">\n",
       "  <thead>\n",
       "    <tr style=\"text-align: right;\">\n",
       "      <th></th>\n",
       "      <th>price</th>\n",
       "      <th>bed</th>\n",
       "      <th>bath</th>\n",
       "      <th>state</th>\n",
       "      <th>house_size</th>\n",
       "    </tr>\n",
       "  </thead>\n",
       "  <tbody>\n",
       "    <tr>\n",
       "      <th>0</th>\n",
       "      <td>549000.0</td>\n",
       "      <td>4.0</td>\n",
       "      <td>4.0</td>\n",
       "      <td>Alabama</td>\n",
       "      <td>2919.0</td>\n",
       "    </tr>\n",
       "    <tr>\n",
       "      <th>1</th>\n",
       "      <td>175000.0</td>\n",
       "      <td>3.0</td>\n",
       "      <td>2.0</td>\n",
       "      <td>Alabama</td>\n",
       "      <td>1234.0</td>\n",
       "    </tr>\n",
       "    <tr>\n",
       "      <th>3</th>\n",
       "      <td>399900.0</td>\n",
       "      <td>4.0</td>\n",
       "      <td>3.0</td>\n",
       "      <td>Alabama</td>\n",
       "      <td>2709.0</td>\n",
       "    </tr>\n",
       "    <tr>\n",
       "      <th>4</th>\n",
       "      <td>589000.0</td>\n",
       "      <td>3.0</td>\n",
       "      <td>3.0</td>\n",
       "      <td>Alabama</td>\n",
       "      <td>4108.0</td>\n",
       "    </tr>\n",
       "    <tr>\n",
       "      <th>5</th>\n",
       "      <td>279000.0</td>\n",
       "      <td>3.0</td>\n",
       "      <td>2.0</td>\n",
       "      <td>Alabama</td>\n",
       "      <td>1917.0</td>\n",
       "    </tr>\n",
       "  </tbody>\n",
       "</table>\n",
       "</div>"
      ],
      "text/plain": [
       "      price  bed  bath    state  house_size\n",
       "0  549000.0  4.0   4.0  Alabama      2919.0\n",
       "1  175000.0  3.0   2.0  Alabama      1234.0\n",
       "3  399900.0  4.0   3.0  Alabama      2709.0\n",
       "4  589000.0  3.0   3.0  Alabama      4108.0\n",
       "5  279000.0  3.0   2.0  Alabama      1917.0"
      ]
     },
     "execution_count": 47,
     "metadata": {},
     "output_type": "execute_result"
    }
   ],
   "source": [
    "# price per sqft is unnecessary at this point\n",
    "df9 = df8.drop(['price_per_sqft'],axis='columns')\n",
    "df9.head()"
   ]
  },
  {
   "cell_type": "markdown",
   "id": "62c44e7e-0fbb-4eeb-a076-e7ad71f3074e",
   "metadata": {},
   "source": [
    "## One Hot Encoding For Each State"
   ]
  },
  {
   "cell_type": "code",
   "execution_count": 49,
   "id": "79207bf8-b6d1-4cca-a8e3-313773a44d94",
   "metadata": {},
   "outputs": [
    {
     "data": {
      "text/html": [
       "<div>\n",
       "<style scoped>\n",
       "    .dataframe tbody tr th:only-of-type {\n",
       "        vertical-align: middle;\n",
       "    }\n",
       "\n",
       "    .dataframe tbody tr th {\n",
       "        vertical-align: top;\n",
       "    }\n",
       "\n",
       "    .dataframe thead th {\n",
       "        text-align: right;\n",
       "    }\n",
       "</style>\n",
       "<table border=\"1\" class=\"dataframe\">\n",
       "  <thead>\n",
       "    <tr style=\"text-align: right;\">\n",
       "      <th></th>\n",
       "      <th>Alabama</th>\n",
       "      <th>Alaska</th>\n",
       "      <th>Arizona</th>\n",
       "      <th>Arkansas</th>\n",
       "      <th>California</th>\n",
       "      <th>Colorado</th>\n",
       "      <th>Connecticut</th>\n",
       "      <th>Delaware</th>\n",
       "      <th>Florida</th>\n",
       "      <th>Georgia</th>\n",
       "      <th>...</th>\n",
       "      <th>South Dakota</th>\n",
       "      <th>Tennessee</th>\n",
       "      <th>Texas</th>\n",
       "      <th>Utah</th>\n",
       "      <th>Vermont</th>\n",
       "      <th>Virginia</th>\n",
       "      <th>Washington</th>\n",
       "      <th>West Virginia</th>\n",
       "      <th>Wisconsin</th>\n",
       "      <th>Wyoming</th>\n",
       "    </tr>\n",
       "  </thead>\n",
       "  <tbody>\n",
       "    <tr>\n",
       "      <th>0</th>\n",
       "      <td>True</td>\n",
       "      <td>False</td>\n",
       "      <td>False</td>\n",
       "      <td>False</td>\n",
       "      <td>False</td>\n",
       "      <td>False</td>\n",
       "      <td>False</td>\n",
       "      <td>False</td>\n",
       "      <td>False</td>\n",
       "      <td>False</td>\n",
       "      <td>...</td>\n",
       "      <td>False</td>\n",
       "      <td>False</td>\n",
       "      <td>False</td>\n",
       "      <td>False</td>\n",
       "      <td>False</td>\n",
       "      <td>False</td>\n",
       "      <td>False</td>\n",
       "      <td>False</td>\n",
       "      <td>False</td>\n",
       "      <td>False</td>\n",
       "    </tr>\n",
       "    <tr>\n",
       "      <th>1</th>\n",
       "      <td>True</td>\n",
       "      <td>False</td>\n",
       "      <td>False</td>\n",
       "      <td>False</td>\n",
       "      <td>False</td>\n",
       "      <td>False</td>\n",
       "      <td>False</td>\n",
       "      <td>False</td>\n",
       "      <td>False</td>\n",
       "      <td>False</td>\n",
       "      <td>...</td>\n",
       "      <td>False</td>\n",
       "      <td>False</td>\n",
       "      <td>False</td>\n",
       "      <td>False</td>\n",
       "      <td>False</td>\n",
       "      <td>False</td>\n",
       "      <td>False</td>\n",
       "      <td>False</td>\n",
       "      <td>False</td>\n",
       "      <td>False</td>\n",
       "    </tr>\n",
       "    <tr>\n",
       "      <th>3</th>\n",
       "      <td>True</td>\n",
       "      <td>False</td>\n",
       "      <td>False</td>\n",
       "      <td>False</td>\n",
       "      <td>False</td>\n",
       "      <td>False</td>\n",
       "      <td>False</td>\n",
       "      <td>False</td>\n",
       "      <td>False</td>\n",
       "      <td>False</td>\n",
       "      <td>...</td>\n",
       "      <td>False</td>\n",
       "      <td>False</td>\n",
       "      <td>False</td>\n",
       "      <td>False</td>\n",
       "      <td>False</td>\n",
       "      <td>False</td>\n",
       "      <td>False</td>\n",
       "      <td>False</td>\n",
       "      <td>False</td>\n",
       "      <td>False</td>\n",
       "    </tr>\n",
       "    <tr>\n",
       "      <th>4</th>\n",
       "      <td>True</td>\n",
       "      <td>False</td>\n",
       "      <td>False</td>\n",
       "      <td>False</td>\n",
       "      <td>False</td>\n",
       "      <td>False</td>\n",
       "      <td>False</td>\n",
       "      <td>False</td>\n",
       "      <td>False</td>\n",
       "      <td>False</td>\n",
       "      <td>...</td>\n",
       "      <td>False</td>\n",
       "      <td>False</td>\n",
       "      <td>False</td>\n",
       "      <td>False</td>\n",
       "      <td>False</td>\n",
       "      <td>False</td>\n",
       "      <td>False</td>\n",
       "      <td>False</td>\n",
       "      <td>False</td>\n",
       "      <td>False</td>\n",
       "    </tr>\n",
       "    <tr>\n",
       "      <th>5</th>\n",
       "      <td>True</td>\n",
       "      <td>False</td>\n",
       "      <td>False</td>\n",
       "      <td>False</td>\n",
       "      <td>False</td>\n",
       "      <td>False</td>\n",
       "      <td>False</td>\n",
       "      <td>False</td>\n",
       "      <td>False</td>\n",
       "      <td>False</td>\n",
       "      <td>...</td>\n",
       "      <td>False</td>\n",
       "      <td>False</td>\n",
       "      <td>False</td>\n",
       "      <td>False</td>\n",
       "      <td>False</td>\n",
       "      <td>False</td>\n",
       "      <td>False</td>\n",
       "      <td>False</td>\n",
       "      <td>False</td>\n",
       "      <td>False</td>\n",
       "    </tr>\n",
       "  </tbody>\n",
       "</table>\n",
       "<p>5 rows × 51 columns</p>\n",
       "</div>"
      ],
      "text/plain": [
       "   Alabama  Alaska  Arizona  Arkansas  California  Colorado  Connecticut  \\\n",
       "0     True   False    False     False       False     False        False   \n",
       "1     True   False    False     False       False     False        False   \n",
       "3     True   False    False     False       False     False        False   \n",
       "4     True   False    False     False       False     False        False   \n",
       "5     True   False    False     False       False     False        False   \n",
       "\n",
       "   Delaware  Florida  Georgia  ...  South Dakota  Tennessee  Texas   Utah  \\\n",
       "0     False    False    False  ...         False      False  False  False   \n",
       "1     False    False    False  ...         False      False  False  False   \n",
       "3     False    False    False  ...         False      False  False  False   \n",
       "4     False    False    False  ...         False      False  False  False   \n",
       "5     False    False    False  ...         False      False  False  False   \n",
       "\n",
       "   Vermont  Virginia  Washington  West Virginia  Wisconsin  Wyoming  \n",
       "0    False     False       False          False      False    False  \n",
       "1    False     False       False          False      False    False  \n",
       "3    False     False       False          False      False    False  \n",
       "4    False     False       False          False      False    False  \n",
       "5    False     False       False          False      False    False  \n",
       "\n",
       "[5 rows x 51 columns]"
      ]
     },
     "execution_count": 49,
     "metadata": {},
     "output_type": "execute_result"
    }
   ],
   "source": [
    "dummies = pd.get_dummies(df9.state)\n",
    "dummies.head()"
   ]
  },
  {
   "cell_type": "code",
   "execution_count": 50,
   "id": "6777bfe9-61ae-4716-917d-6c3b08e7b844",
   "metadata": {},
   "outputs": [
    {
     "data": {
      "text/html": [
       "<div>\n",
       "<style scoped>\n",
       "    .dataframe tbody tr th:only-of-type {\n",
       "        vertical-align: middle;\n",
       "    }\n",
       "\n",
       "    .dataframe tbody tr th {\n",
       "        vertical-align: top;\n",
       "    }\n",
       "\n",
       "    .dataframe thead th {\n",
       "        text-align: right;\n",
       "    }\n",
       "</style>\n",
       "<table border=\"1\" class=\"dataframe\">\n",
       "  <thead>\n",
       "    <tr style=\"text-align: right;\">\n",
       "      <th></th>\n",
       "      <th>price</th>\n",
       "      <th>bed</th>\n",
       "      <th>bath</th>\n",
       "      <th>state</th>\n",
       "      <th>house_size</th>\n",
       "      <th>Alabama</th>\n",
       "      <th>Alaska</th>\n",
       "      <th>Arizona</th>\n",
       "      <th>Arkansas</th>\n",
       "      <th>California</th>\n",
       "      <th>...</th>\n",
       "      <th>South Dakota</th>\n",
       "      <th>Tennessee</th>\n",
       "      <th>Texas</th>\n",
       "      <th>Utah</th>\n",
       "      <th>Vermont</th>\n",
       "      <th>Virginia</th>\n",
       "      <th>Washington</th>\n",
       "      <th>West Virginia</th>\n",
       "      <th>Wisconsin</th>\n",
       "      <th>Wyoming</th>\n",
       "    </tr>\n",
       "  </thead>\n",
       "  <tbody>\n",
       "    <tr>\n",
       "      <th>0</th>\n",
       "      <td>549000.0</td>\n",
       "      <td>4.0</td>\n",
       "      <td>4.0</td>\n",
       "      <td>Alabama</td>\n",
       "      <td>2919.0</td>\n",
       "      <td>True</td>\n",
       "      <td>False</td>\n",
       "      <td>False</td>\n",
       "      <td>False</td>\n",
       "      <td>False</td>\n",
       "      <td>...</td>\n",
       "      <td>False</td>\n",
       "      <td>False</td>\n",
       "      <td>False</td>\n",
       "      <td>False</td>\n",
       "      <td>False</td>\n",
       "      <td>False</td>\n",
       "      <td>False</td>\n",
       "      <td>False</td>\n",
       "      <td>False</td>\n",
       "      <td>False</td>\n",
       "    </tr>\n",
       "    <tr>\n",
       "      <th>1</th>\n",
       "      <td>175000.0</td>\n",
       "      <td>3.0</td>\n",
       "      <td>2.0</td>\n",
       "      <td>Alabama</td>\n",
       "      <td>1234.0</td>\n",
       "      <td>True</td>\n",
       "      <td>False</td>\n",
       "      <td>False</td>\n",
       "      <td>False</td>\n",
       "      <td>False</td>\n",
       "      <td>...</td>\n",
       "      <td>False</td>\n",
       "      <td>False</td>\n",
       "      <td>False</td>\n",
       "      <td>False</td>\n",
       "      <td>False</td>\n",
       "      <td>False</td>\n",
       "      <td>False</td>\n",
       "      <td>False</td>\n",
       "      <td>False</td>\n",
       "      <td>False</td>\n",
       "    </tr>\n",
       "    <tr>\n",
       "      <th>3</th>\n",
       "      <td>399900.0</td>\n",
       "      <td>4.0</td>\n",
       "      <td>3.0</td>\n",
       "      <td>Alabama</td>\n",
       "      <td>2709.0</td>\n",
       "      <td>True</td>\n",
       "      <td>False</td>\n",
       "      <td>False</td>\n",
       "      <td>False</td>\n",
       "      <td>False</td>\n",
       "      <td>...</td>\n",
       "      <td>False</td>\n",
       "      <td>False</td>\n",
       "      <td>False</td>\n",
       "      <td>False</td>\n",
       "      <td>False</td>\n",
       "      <td>False</td>\n",
       "      <td>False</td>\n",
       "      <td>False</td>\n",
       "      <td>False</td>\n",
       "      <td>False</td>\n",
       "    </tr>\n",
       "    <tr>\n",
       "      <th>4</th>\n",
       "      <td>589000.0</td>\n",
       "      <td>3.0</td>\n",
       "      <td>3.0</td>\n",
       "      <td>Alabama</td>\n",
       "      <td>4108.0</td>\n",
       "      <td>True</td>\n",
       "      <td>False</td>\n",
       "      <td>False</td>\n",
       "      <td>False</td>\n",
       "      <td>False</td>\n",
       "      <td>...</td>\n",
       "      <td>False</td>\n",
       "      <td>False</td>\n",
       "      <td>False</td>\n",
       "      <td>False</td>\n",
       "      <td>False</td>\n",
       "      <td>False</td>\n",
       "      <td>False</td>\n",
       "      <td>False</td>\n",
       "      <td>False</td>\n",
       "      <td>False</td>\n",
       "    </tr>\n",
       "    <tr>\n",
       "      <th>5</th>\n",
       "      <td>279000.0</td>\n",
       "      <td>3.0</td>\n",
       "      <td>2.0</td>\n",
       "      <td>Alabama</td>\n",
       "      <td>1917.0</td>\n",
       "      <td>True</td>\n",
       "      <td>False</td>\n",
       "      <td>False</td>\n",
       "      <td>False</td>\n",
       "      <td>False</td>\n",
       "      <td>...</td>\n",
       "      <td>False</td>\n",
       "      <td>False</td>\n",
       "      <td>False</td>\n",
       "      <td>False</td>\n",
       "      <td>False</td>\n",
       "      <td>False</td>\n",
       "      <td>False</td>\n",
       "      <td>False</td>\n",
       "      <td>False</td>\n",
       "      <td>False</td>\n",
       "    </tr>\n",
       "  </tbody>\n",
       "</table>\n",
       "<p>5 rows × 55 columns</p>\n",
       "</div>"
      ],
      "text/plain": [
       "      price  bed  bath    state  house_size  Alabama  Alaska  Arizona  \\\n",
       "0  549000.0  4.0   4.0  Alabama      2919.0     True   False    False   \n",
       "1  175000.0  3.0   2.0  Alabama      1234.0     True   False    False   \n",
       "3  399900.0  4.0   3.0  Alabama      2709.0     True   False    False   \n",
       "4  589000.0  3.0   3.0  Alabama      4108.0     True   False    False   \n",
       "5  279000.0  3.0   2.0  Alabama      1917.0     True   False    False   \n",
       "\n",
       "   Arkansas  California  ...  South Dakota  Tennessee  Texas   Utah  Vermont  \\\n",
       "0     False       False  ...         False      False  False  False    False   \n",
       "1     False       False  ...         False      False  False  False    False   \n",
       "3     False       False  ...         False      False  False  False    False   \n",
       "4     False       False  ...         False      False  False  False    False   \n",
       "5     False       False  ...         False      False  False  False    False   \n",
       "\n",
       "   Virginia  Washington  West Virginia  Wisconsin  Wyoming  \n",
       "0     False       False          False      False    False  \n",
       "1     False       False          False      False    False  \n",
       "3     False       False          False      False    False  \n",
       "4     False       False          False      False    False  \n",
       "5     False       False          False      False    False  \n",
       "\n",
       "[5 rows x 55 columns]"
      ]
     },
     "execution_count": 50,
     "metadata": {},
     "output_type": "execute_result"
    }
   ],
   "source": [
    "df10 = pd.concat([df9, dummies.drop('Other', axis='columns')], axis='columns')\n",
    "df10.head()"
   ]
  },
  {
   "cell_type": "code",
   "execution_count": 51,
   "id": "b4363b94-8352-4e7c-a86e-7083768d082d",
   "metadata": {},
   "outputs": [
    {
     "data": {
      "text/html": [
       "<div>\n",
       "<style scoped>\n",
       "    .dataframe tbody tr th:only-of-type {\n",
       "        vertical-align: middle;\n",
       "    }\n",
       "\n",
       "    .dataframe tbody tr th {\n",
       "        vertical-align: top;\n",
       "    }\n",
       "\n",
       "    .dataframe thead th {\n",
       "        text-align: right;\n",
       "    }\n",
       "</style>\n",
       "<table border=\"1\" class=\"dataframe\">\n",
       "  <thead>\n",
       "    <tr style=\"text-align: right;\">\n",
       "      <th></th>\n",
       "      <th>price</th>\n",
       "      <th>bed</th>\n",
       "      <th>bath</th>\n",
       "      <th>house_size</th>\n",
       "      <th>Alabama</th>\n",
       "      <th>Alaska</th>\n",
       "      <th>Arizona</th>\n",
       "      <th>Arkansas</th>\n",
       "      <th>California</th>\n",
       "      <th>Colorado</th>\n",
       "      <th>...</th>\n",
       "      <th>South Dakota</th>\n",
       "      <th>Tennessee</th>\n",
       "      <th>Texas</th>\n",
       "      <th>Utah</th>\n",
       "      <th>Vermont</th>\n",
       "      <th>Virginia</th>\n",
       "      <th>Washington</th>\n",
       "      <th>West Virginia</th>\n",
       "      <th>Wisconsin</th>\n",
       "      <th>Wyoming</th>\n",
       "    </tr>\n",
       "  </thead>\n",
       "  <tbody>\n",
       "    <tr>\n",
       "      <th>0</th>\n",
       "      <td>549000.0</td>\n",
       "      <td>4.0</td>\n",
       "      <td>4.0</td>\n",
       "      <td>2919.0</td>\n",
       "      <td>True</td>\n",
       "      <td>False</td>\n",
       "      <td>False</td>\n",
       "      <td>False</td>\n",
       "      <td>False</td>\n",
       "      <td>False</td>\n",
       "      <td>...</td>\n",
       "      <td>False</td>\n",
       "      <td>False</td>\n",
       "      <td>False</td>\n",
       "      <td>False</td>\n",
       "      <td>False</td>\n",
       "      <td>False</td>\n",
       "      <td>False</td>\n",
       "      <td>False</td>\n",
       "      <td>False</td>\n",
       "      <td>False</td>\n",
       "    </tr>\n",
       "    <tr>\n",
       "      <th>1</th>\n",
       "      <td>175000.0</td>\n",
       "      <td>3.0</td>\n",
       "      <td>2.0</td>\n",
       "      <td>1234.0</td>\n",
       "      <td>True</td>\n",
       "      <td>False</td>\n",
       "      <td>False</td>\n",
       "      <td>False</td>\n",
       "      <td>False</td>\n",
       "      <td>False</td>\n",
       "      <td>...</td>\n",
       "      <td>False</td>\n",
       "      <td>False</td>\n",
       "      <td>False</td>\n",
       "      <td>False</td>\n",
       "      <td>False</td>\n",
       "      <td>False</td>\n",
       "      <td>False</td>\n",
       "      <td>False</td>\n",
       "      <td>False</td>\n",
       "      <td>False</td>\n",
       "    </tr>\n",
       "    <tr>\n",
       "      <th>3</th>\n",
       "      <td>399900.0</td>\n",
       "      <td>4.0</td>\n",
       "      <td>3.0</td>\n",
       "      <td>2709.0</td>\n",
       "      <td>True</td>\n",
       "      <td>False</td>\n",
       "      <td>False</td>\n",
       "      <td>False</td>\n",
       "      <td>False</td>\n",
       "      <td>False</td>\n",
       "      <td>...</td>\n",
       "      <td>False</td>\n",
       "      <td>False</td>\n",
       "      <td>False</td>\n",
       "      <td>False</td>\n",
       "      <td>False</td>\n",
       "      <td>False</td>\n",
       "      <td>False</td>\n",
       "      <td>False</td>\n",
       "      <td>False</td>\n",
       "      <td>False</td>\n",
       "    </tr>\n",
       "    <tr>\n",
       "      <th>4</th>\n",
       "      <td>589000.0</td>\n",
       "      <td>3.0</td>\n",
       "      <td>3.0</td>\n",
       "      <td>4108.0</td>\n",
       "      <td>True</td>\n",
       "      <td>False</td>\n",
       "      <td>False</td>\n",
       "      <td>False</td>\n",
       "      <td>False</td>\n",
       "      <td>False</td>\n",
       "      <td>...</td>\n",
       "      <td>False</td>\n",
       "      <td>False</td>\n",
       "      <td>False</td>\n",
       "      <td>False</td>\n",
       "      <td>False</td>\n",
       "      <td>False</td>\n",
       "      <td>False</td>\n",
       "      <td>False</td>\n",
       "      <td>False</td>\n",
       "      <td>False</td>\n",
       "    </tr>\n",
       "    <tr>\n",
       "      <th>5</th>\n",
       "      <td>279000.0</td>\n",
       "      <td>3.0</td>\n",
       "      <td>2.0</td>\n",
       "      <td>1917.0</td>\n",
       "      <td>True</td>\n",
       "      <td>False</td>\n",
       "      <td>False</td>\n",
       "      <td>False</td>\n",
       "      <td>False</td>\n",
       "      <td>False</td>\n",
       "      <td>...</td>\n",
       "      <td>False</td>\n",
       "      <td>False</td>\n",
       "      <td>False</td>\n",
       "      <td>False</td>\n",
       "      <td>False</td>\n",
       "      <td>False</td>\n",
       "      <td>False</td>\n",
       "      <td>False</td>\n",
       "      <td>False</td>\n",
       "      <td>False</td>\n",
       "    </tr>\n",
       "  </tbody>\n",
       "</table>\n",
       "<p>5 rows × 54 columns</p>\n",
       "</div>"
      ],
      "text/plain": [
       "      price  bed  bath  house_size  Alabama  Alaska  Arizona  Arkansas  \\\n",
       "0  549000.0  4.0   4.0      2919.0     True   False    False     False   \n",
       "1  175000.0  3.0   2.0      1234.0     True   False    False     False   \n",
       "3  399900.0  4.0   3.0      2709.0     True   False    False     False   \n",
       "4  589000.0  3.0   3.0      4108.0     True   False    False     False   \n",
       "5  279000.0  3.0   2.0      1917.0     True   False    False     False   \n",
       "\n",
       "   California  Colorado  ...  South Dakota  Tennessee  Texas   Utah  Vermont  \\\n",
       "0       False     False  ...         False      False  False  False    False   \n",
       "1       False     False  ...         False      False  False  False    False   \n",
       "3       False     False  ...         False      False  False  False    False   \n",
       "4       False     False  ...         False      False  False  False    False   \n",
       "5       False     False  ...         False      False  False  False    False   \n",
       "\n",
       "   Virginia  Washington  West Virginia  Wisconsin  Wyoming  \n",
       "0     False       False          False      False    False  \n",
       "1     False       False          False      False    False  \n",
       "3     False       False          False      False    False  \n",
       "4     False       False          False      False    False  \n",
       "5     False       False          False      False    False  \n",
       "\n",
       "[5 rows x 54 columns]"
      ]
     },
     "execution_count": 51,
     "metadata": {},
     "output_type": "execute_result"
    }
   ],
   "source": [
    "df11 = df10.drop('state', axis='columns')\n",
    "df11.head()"
   ]
  },
  {
   "cell_type": "code",
   "execution_count": 52,
   "id": "233ed300-c347-43f9-800b-bb73caf0c4de",
   "metadata": {},
   "outputs": [
    {
     "data": {
      "text/plain": [
       "(519903, 54)"
      ]
     },
     "execution_count": 52,
     "metadata": {},
     "output_type": "execute_result"
    }
   ],
   "source": [
    "df11.shape"
   ]
  },
  {
   "cell_type": "markdown",
   "id": "222f8b00-f949-4d9d-98ca-c69ebec67e23",
   "metadata": {},
   "source": [
    "## Build Linear Regression Model"
   ]
  },
  {
   "cell_type": "code",
   "execution_count": 54,
   "id": "197e9208-0fec-4cd9-949a-93baedfb8958",
   "metadata": {},
   "outputs": [
    {
     "data": {
      "text/html": [
       "<div>\n",
       "<style scoped>\n",
       "    .dataframe tbody tr th:only-of-type {\n",
       "        vertical-align: middle;\n",
       "    }\n",
       "\n",
       "    .dataframe tbody tr th {\n",
       "        vertical-align: top;\n",
       "    }\n",
       "\n",
       "    .dataframe thead th {\n",
       "        text-align: right;\n",
       "    }\n",
       "</style>\n",
       "<table border=\"1\" class=\"dataframe\">\n",
       "  <thead>\n",
       "    <tr style=\"text-align: right;\">\n",
       "      <th></th>\n",
       "      <th>bed</th>\n",
       "      <th>bath</th>\n",
       "      <th>house_size</th>\n",
       "      <th>Alabama</th>\n",
       "      <th>Alaska</th>\n",
       "      <th>Arizona</th>\n",
       "      <th>Arkansas</th>\n",
       "      <th>California</th>\n",
       "      <th>Colorado</th>\n",
       "      <th>Connecticut</th>\n",
       "      <th>...</th>\n",
       "      <th>South Dakota</th>\n",
       "      <th>Tennessee</th>\n",
       "      <th>Texas</th>\n",
       "      <th>Utah</th>\n",
       "      <th>Vermont</th>\n",
       "      <th>Virginia</th>\n",
       "      <th>Washington</th>\n",
       "      <th>West Virginia</th>\n",
       "      <th>Wisconsin</th>\n",
       "      <th>Wyoming</th>\n",
       "    </tr>\n",
       "  </thead>\n",
       "  <tbody>\n",
       "    <tr>\n",
       "      <th>0</th>\n",
       "      <td>4.0</td>\n",
       "      <td>4.0</td>\n",
       "      <td>2919.0</td>\n",
       "      <td>True</td>\n",
       "      <td>False</td>\n",
       "      <td>False</td>\n",
       "      <td>False</td>\n",
       "      <td>False</td>\n",
       "      <td>False</td>\n",
       "      <td>False</td>\n",
       "      <td>...</td>\n",
       "      <td>False</td>\n",
       "      <td>False</td>\n",
       "      <td>False</td>\n",
       "      <td>False</td>\n",
       "      <td>False</td>\n",
       "      <td>False</td>\n",
       "      <td>False</td>\n",
       "      <td>False</td>\n",
       "      <td>False</td>\n",
       "      <td>False</td>\n",
       "    </tr>\n",
       "    <tr>\n",
       "      <th>1</th>\n",
       "      <td>3.0</td>\n",
       "      <td>2.0</td>\n",
       "      <td>1234.0</td>\n",
       "      <td>True</td>\n",
       "      <td>False</td>\n",
       "      <td>False</td>\n",
       "      <td>False</td>\n",
       "      <td>False</td>\n",
       "      <td>False</td>\n",
       "      <td>False</td>\n",
       "      <td>...</td>\n",
       "      <td>False</td>\n",
       "      <td>False</td>\n",
       "      <td>False</td>\n",
       "      <td>False</td>\n",
       "      <td>False</td>\n",
       "      <td>False</td>\n",
       "      <td>False</td>\n",
       "      <td>False</td>\n",
       "      <td>False</td>\n",
       "      <td>False</td>\n",
       "    </tr>\n",
       "    <tr>\n",
       "      <th>3</th>\n",
       "      <td>4.0</td>\n",
       "      <td>3.0</td>\n",
       "      <td>2709.0</td>\n",
       "      <td>True</td>\n",
       "      <td>False</td>\n",
       "      <td>False</td>\n",
       "      <td>False</td>\n",
       "      <td>False</td>\n",
       "      <td>False</td>\n",
       "      <td>False</td>\n",
       "      <td>...</td>\n",
       "      <td>False</td>\n",
       "      <td>False</td>\n",
       "      <td>False</td>\n",
       "      <td>False</td>\n",
       "      <td>False</td>\n",
       "      <td>False</td>\n",
       "      <td>False</td>\n",
       "      <td>False</td>\n",
       "      <td>False</td>\n",
       "      <td>False</td>\n",
       "    </tr>\n",
       "    <tr>\n",
       "      <th>4</th>\n",
       "      <td>3.0</td>\n",
       "      <td>3.0</td>\n",
       "      <td>4108.0</td>\n",
       "      <td>True</td>\n",
       "      <td>False</td>\n",
       "      <td>False</td>\n",
       "      <td>False</td>\n",
       "      <td>False</td>\n",
       "      <td>False</td>\n",
       "      <td>False</td>\n",
       "      <td>...</td>\n",
       "      <td>False</td>\n",
       "      <td>False</td>\n",
       "      <td>False</td>\n",
       "      <td>False</td>\n",
       "      <td>False</td>\n",
       "      <td>False</td>\n",
       "      <td>False</td>\n",
       "      <td>False</td>\n",
       "      <td>False</td>\n",
       "      <td>False</td>\n",
       "    </tr>\n",
       "    <tr>\n",
       "      <th>5</th>\n",
       "      <td>3.0</td>\n",
       "      <td>2.0</td>\n",
       "      <td>1917.0</td>\n",
       "      <td>True</td>\n",
       "      <td>False</td>\n",
       "      <td>False</td>\n",
       "      <td>False</td>\n",
       "      <td>False</td>\n",
       "      <td>False</td>\n",
       "      <td>False</td>\n",
       "      <td>...</td>\n",
       "      <td>False</td>\n",
       "      <td>False</td>\n",
       "      <td>False</td>\n",
       "      <td>False</td>\n",
       "      <td>False</td>\n",
       "      <td>False</td>\n",
       "      <td>False</td>\n",
       "      <td>False</td>\n",
       "      <td>False</td>\n",
       "      <td>False</td>\n",
       "    </tr>\n",
       "  </tbody>\n",
       "</table>\n",
       "<p>5 rows × 53 columns</p>\n",
       "</div>"
      ],
      "text/plain": [
       "   bed  bath  house_size  Alabama  Alaska  Arizona  Arkansas  California  \\\n",
       "0  4.0   4.0      2919.0     True   False    False     False       False   \n",
       "1  3.0   2.0      1234.0     True   False    False     False       False   \n",
       "3  4.0   3.0      2709.0     True   False    False     False       False   \n",
       "4  3.0   3.0      4108.0     True   False    False     False       False   \n",
       "5  3.0   2.0      1917.0     True   False    False     False       False   \n",
       "\n",
       "   Colorado  Connecticut  ...  South Dakota  Tennessee  Texas   Utah  Vermont  \\\n",
       "0     False        False  ...         False      False  False  False    False   \n",
       "1     False        False  ...         False      False  False  False    False   \n",
       "3     False        False  ...         False      False  False  False    False   \n",
       "4     False        False  ...         False      False  False  False    False   \n",
       "5     False        False  ...         False      False  False  False    False   \n",
       "\n",
       "   Virginia  Washington  West Virginia  Wisconsin  Wyoming  \n",
       "0     False       False          False      False    False  \n",
       "1     False       False          False      False    False  \n",
       "3     False       False          False      False    False  \n",
       "4     False       False          False      False    False  \n",
       "5     False       False          False      False    False  \n",
       "\n",
       "[5 rows x 53 columns]"
      ]
     },
     "execution_count": 54,
     "metadata": {},
     "output_type": "execute_result"
    }
   ],
   "source": [
    "X = df11.drop('price', axis='columns')\n",
    "X.head()"
   ]
  },
  {
   "cell_type": "code",
   "execution_count": 55,
   "id": "8cf08cd4-e5af-4b05-8247-af622e0338c6",
   "metadata": {},
   "outputs": [
    {
     "data": {
      "text/plain": [
       "0    549000.0\n",
       "1    175000.0\n",
       "3    399900.0\n",
       "4    589000.0\n",
       "5    279000.0\n",
       "Name: price, dtype: float64"
      ]
     },
     "execution_count": 55,
     "metadata": {},
     "output_type": "execute_result"
    }
   ],
   "source": [
    "y = df11.price\n",
    "y.head()"
   ]
  },
  {
   "cell_type": "code",
   "execution_count": 56,
   "id": "77b731f0-e144-4e42-a9f1-d0819a2a4a37",
   "metadata": {},
   "outputs": [],
   "source": [
    "from sklearn.model_selection import train_test_split\n",
    "X_train, X_test, y_train, y_test = train_test_split(X, y, test_size=0.2, random_state=10)"
   ]
  },
  {
   "cell_type": "code",
   "execution_count": 57,
   "id": "a9fefda4-0f25-42ba-bacf-cdfae6bb41e1",
   "metadata": {},
   "outputs": [
    {
     "data": {
      "text/plain": [
       "0.8026779500722926"
      ]
     },
     "execution_count": 57,
     "metadata": {},
     "output_type": "execute_result"
    }
   ],
   "source": [
    "from sklearn.linear_model import LinearRegression\n",
    "lr_clf = LinearRegression()\n",
    "lr_clf.fit(X_train, y_train)\n",
    "lr_clf.score(X_test, y_test)"
   ]
  },
  {
   "cell_type": "markdown",
   "id": "acbf771b-8121-444b-a9e0-c92905e1b9bb",
   "metadata": {},
   "source": [
    "## Use K Fold cross validation to measure accuracy of our LinearRegression model"
   ]
  },
  {
   "cell_type": "code",
   "execution_count": 59,
   "id": "1dd783ff-d6a8-4446-812c-8aaad8878ae3",
   "metadata": {},
   "outputs": [
    {
     "data": {
      "text/plain": [
       "array([0.8069029 , 0.80851174, 0.74524019, 0.80372961, 0.79477844])"
      ]
     },
     "execution_count": 59,
     "metadata": {},
     "output_type": "execute_result"
    }
   ],
   "source": [
    "from sklearn.model_selection import ShuffleSplit, cross_val_score\n",
    "\n",
    "cv = ShuffleSplit(n_splits=5, test_size=0.2, random_state=0)\n",
    "\n",
    "cross_val_score(LinearRegression(), X, y, cv=cv)"
   ]
  },
  {
   "cell_type": "code",
   "execution_count": 60,
   "id": "eb7190b7-d5da-4833-bb7c-020352e9859c",
   "metadata": {},
   "outputs": [
    {
     "data": {
      "text/plain": [
       "Index(['bed', 'bath', 'house_size', 'Alabama', 'Alaska', 'Arizona', 'Arkansas',\n",
       "       'California', 'Colorado', 'Connecticut', 'Delaware', 'Florida',\n",
       "       'Georgia', 'Hawaii', 'Idaho', 'Illinois', 'Indiana', 'Iowa', 'Kansas',\n",
       "       'Kentucky', 'Louisiana', 'Maine', 'Maryland', 'Massachusetts',\n",
       "       'Michigan', 'Minnesota', 'Mississippi', 'Missouri', 'Montana',\n",
       "       'Nebraska', 'Nevada', 'New Hampshire', 'New Jersey', 'New Mexico',\n",
       "       'New York', 'North Carolina', 'North Dakota', 'Ohio', 'Oklahoma',\n",
       "       'Oregon', 'Pennsylvania', 'Rhode Island', 'South Carolina',\n",
       "       'South Dakota', 'Tennessee', 'Texas', 'Utah', 'Vermont', 'Virginia',\n",
       "       'Washington', 'West Virginia', 'Wisconsin', 'Wyoming'],\n",
       "      dtype='object')"
      ]
     },
     "execution_count": 60,
     "metadata": {},
     "output_type": "execute_result"
    }
   ],
   "source": [
    "X.columns"
   ]
  },
  {
   "cell_type": "markdown",
   "id": "d865c50b-0569-4bdc-b5cb-f9f21a58f1fc",
   "metadata": {},
   "source": [
    "## Test Model on Properties"
   ]
  },
  {
   "cell_type": "code",
   "execution_count": 62,
   "id": "e401923c-b95f-4fc5-87e4-b3c2d082dbf7",
   "metadata": {},
   "outputs": [],
   "source": [
    "def predict_price(state, bed, bath, sqft):    \n",
    "    loc_index = np.where(X.columns==state)[0][0]\n",
    "\n",
    "    x = np.zeros(len(X.columns))\n",
    "    x[0] = bed\n",
    "    x[1] = bath\n",
    "    x[2] = sqft\n",
    "    if loc_index >= 0:\n",
    "        x[loc_index] = 1\n",
    "\n",
    "    return lr_clf.predict([x])[0]"
   ]
  },
  {
   "cell_type": "code",
   "execution_count": 63,
   "id": "ad5eb8e0-2a41-4880-986c-85f6ee866066",
   "metadata": {},
   "outputs": [
    {
     "name": "stderr",
     "output_type": "stream",
     "text": [
      "C:\\Users\\justi\\anaconda3\\Lib\\site-packages\\sklearn\\base.py:493: UserWarning: X does not have valid feature names, but LinearRegression was fitted with feature names\n",
      "  warnings.warn(\n"
     ]
    },
    {
     "data": {
      "text/plain": [
       "48583.86732454185"
      ]
     },
     "execution_count": 63,
     "metadata": {},
     "output_type": "execute_result"
    }
   ],
   "source": [
    "predict_price('Arkansas', 2, 2, 1000)"
   ]
  },
  {
   "cell_type": "code",
   "execution_count": 64,
   "id": "0561fc67-f2fd-4081-a8db-afe87d1458f4",
   "metadata": {},
   "outputs": [
    {
     "name": "stderr",
     "output_type": "stream",
     "text": [
      "C:\\Users\\justi\\anaconda3\\Lib\\site-packages\\sklearn\\base.py:493: UserWarning: X does not have valid feature names, but LinearRegression was fitted with feature names\n",
      "  warnings.warn(\n"
     ]
    },
    {
     "data": {
      "text/plain": [
       "96987.4093843573"
      ]
     },
     "execution_count": 64,
     "metadata": {},
     "output_type": "execute_result"
    }
   ],
   "source": [
    "predict_price('Arkansas', 3, 3, 1000)"
   ]
  },
  {
   "cell_type": "code",
   "execution_count": 65,
   "id": "c4e83f23-1883-4bdb-af13-49f32ac213d5",
   "metadata": {},
   "outputs": [
    {
     "name": "stderr",
     "output_type": "stream",
     "text": [
      "C:\\Users\\justi\\anaconda3\\Lib\\site-packages\\sklearn\\base.py:493: UserWarning: X does not have valid feature names, but LinearRegression was fitted with feature names\n",
      "  warnings.warn(\n"
     ]
    },
    {
     "data": {
      "text/plain": [
       "605720.3629950716"
      ]
     },
     "execution_count": 65,
     "metadata": {},
     "output_type": "execute_result"
    }
   ],
   "source": [
    "predict_price('New York', 2, 2, 1000)"
   ]
  },
  {
   "cell_type": "code",
   "execution_count": 66,
   "id": "b7274fe3-2950-40cd-9438-edbe7ab9cfec",
   "metadata": {},
   "outputs": [
    {
     "name": "stderr",
     "output_type": "stream",
     "text": [
      "C:\\Users\\justi\\anaconda3\\Lib\\site-packages\\sklearn\\base.py:493: UserWarning: X does not have valid feature names, but LinearRegression was fitted with feature names\n",
      "  warnings.warn(\n"
     ]
    },
    {
     "data": {
      "text/plain": [
       "654123.905054887"
      ]
     },
     "execution_count": 66,
     "metadata": {},
     "output_type": "execute_result"
    }
   ],
   "source": [
    "predict_price('New York', 3, 3, 1000)"
   ]
  },
  {
   "cell_type": "markdown",
   "id": "fcbb2a21-1f22-4452-8541-71f8669a51fe",
   "metadata": {},
   "source": [
    "## Export the Model to Pickle File"
   ]
  },
  {
   "cell_type": "code",
   "execution_count": 68,
   "id": "39233238-a918-42b7-80de-cc9a76cff32a",
   "metadata": {},
   "outputs": [],
   "source": [
    "import pickle\n",
    "with open('usa_home_prices_model.pickle','wb') as f:\n",
    "    pickle.dump(lr_clf,f)"
   ]
  },
  {
   "cell_type": "markdown",
   "id": "1bc43d10-6ee1-4b4e-a4e1-a493564d252a",
   "metadata": {},
   "source": [
    "## Export the Column Data to a JSON File"
   ]
  },
  {
   "cell_type": "code",
   "execution_count": 70,
   "id": "b26ad8e3-e7ae-4326-8d31-ae503a024c30",
   "metadata": {},
   "outputs": [],
   "source": [
    "import json\n",
    "columns = {\n",
    "    'data_columns' : [col.lower() for col in X.columns]\n",
    "}\n",
    "with open(\"columns.json\",\"w\") as f:\n",
    "    f.write(json.dumps(columns))"
   ]
  }
 ],
 "metadata": {
  "kernelspec": {
   "display_name": "Python [conda env:base] *",
   "language": "python",
   "name": "conda-base-py"
  },
  "language_info": {
   "codemirror_mode": {
    "name": "ipython",
    "version": 3
   },
   "file_extension": ".py",
   "mimetype": "text/x-python",
   "name": "python",
   "nbconvert_exporter": "python",
   "pygments_lexer": "ipython3",
   "version": "3.12.7"
  }
 },
 "nbformat": 4,
 "nbformat_minor": 5
}
